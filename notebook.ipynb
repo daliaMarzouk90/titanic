{
 "cells": [
  {
   "cell_type": "markdown",
   "metadata": {},
   "source": [
    "To Do\n",
    "------\n",
    "1- Study different approaches to fill numerical missing data\n",
    "2- Study different approaches to fill categorical missing data"
   ]
  },
  {
   "cell_type": "code",
   "execution_count": 186,
   "metadata": {},
   "outputs": [],
   "source": [
    "#parameters\n",
    "missing_data_handling = \"Del\" #Del, Zero, Mean, Detecting\n",
    "dataPath = \"F:/kaggle/titanic/\""
   ]
  },
  {
   "cell_type": "code",
   "execution_count": 187,
   "metadata": {},
   "outputs": [
    {
     "name": "stdout",
     "output_type": "stream",
     "text": [
      "F:/kaggle/titanic/notebook.ipynb\n",
      "F:/kaggle/titanic/sample_submission.csv\n",
      "F:/kaggle/titanic/spaceship-titanic.zip\n",
      "F:/kaggle/titanic/test.csv\n",
      "F:/kaggle/titanic/train.csv\n",
      "F:/kaggle/titanic/.vs\\ProjectSettings.json\n",
      "F:/kaggle/titanic/.vs\\slnx.sqlite\n",
      "F:/kaggle/titanic/.vs\\VSWorkspaceState.json\n",
      "F:/kaggle/titanic/.vs\\titanic\\v16\\.suo\n"
     ]
    }
   ],
   "source": [
    "import numpy as np # linear algebra\n",
    "import pandas as pd # data processing, CSV file I/O (e.g. pd.read_csv)\n",
    "\n",
    "# Input data files are available in the read-only \"../input/\" directory\n",
    "# For example, running this (by clicking run or pressing Shift+Enter) will list all files under the input directory\n",
    "\n",
    "import os\n",
    "for dirname, _, filenames in os.walk(f'{dataPath}'.format(dataPath=dataPath)):\n",
    "    for filename in filenames:\n",
    "        print(os.path.join(dirname, filename))"
   ]
  },
  {
   "cell_type": "markdown",
   "metadata": {},
   "source": [
    "Reading DataSet\n",
    "---------------"
   ]
  },
  {
   "cell_type": "code",
   "execution_count": 188,
   "metadata": {},
   "outputs": [
    {
     "name": "stdout",
     "output_type": "stream",
     "text": [
      "***********************\n",
      "train Data Info\n",
      "***********************\n",
      "<class 'pandas.core.frame.DataFrame'>\n",
      "RangeIndex: 8693 entries, 0 to 8692\n",
      "Data columns (total 14 columns):\n",
      " #   Column        Non-Null Count  Dtype  \n",
      "---  ------        --------------  -----  \n",
      " 0   PassengerId   8693 non-null   object \n",
      " 1   HomePlanet    8492 non-null   object \n",
      " 2   CryoSleep     8476 non-null   object \n",
      " 3   Cabin         8494 non-null   object \n",
      " 4   Destination   8511 non-null   object \n",
      " 5   Age           8514 non-null   float64\n",
      " 6   VIP           8490 non-null   object \n",
      " 7   RoomService   8512 non-null   float64\n",
      " 8   FoodCourt     8510 non-null   float64\n",
      " 9   ShoppingMall  8485 non-null   float64\n",
      " 10  Spa           8510 non-null   float64\n",
      " 11  VRDeck        8505 non-null   float64\n",
      " 12  Name          8493 non-null   object \n",
      " 13  Transported   8693 non-null   bool   \n",
      "dtypes: bool(1), float64(6), object(7)\n",
      "memory usage: 891.5+ KB\n",
      "None\n",
      "***********************\n",
      "test Data Info\n",
      "***********************\n",
      "<class 'pandas.core.frame.DataFrame'>\n",
      "RangeIndex: 4277 entries, 0 to 4276\n",
      "Data columns (total 13 columns):\n",
      " #   Column        Non-Null Count  Dtype  \n",
      "---  ------        --------------  -----  \n",
      " 0   PassengerId   4277 non-null   object \n",
      " 1   HomePlanet    4190 non-null   object \n",
      " 2   CryoSleep     4184 non-null   object \n",
      " 3   Cabin         4177 non-null   object \n",
      " 4   Destination   4185 non-null   object \n",
      " 5   Age           4186 non-null   float64\n",
      " 6   VIP           4184 non-null   object \n",
      " 7   RoomService   4195 non-null   float64\n",
      " 8   FoodCourt     4171 non-null   float64\n",
      " 9   ShoppingMall  4179 non-null   float64\n",
      " 10  Spa           4176 non-null   float64\n",
      " 11  VRDeck        4197 non-null   float64\n",
      " 12  Name          4183 non-null   object \n",
      "dtypes: float64(6), object(7)\n",
      "memory usage: 434.5+ KB\n",
      "None\n"
     ]
    }
   ],
   "source": [
    "#read data and display information\n",
    "train_data_frame = pd.read_csv(f'{dataPath}train.csv'.format(dataPath=dataPath))\n",
    "test_data_frame = pd.read_csv(f'{dataPath}test.csv'.format(dataPath=dataPath))\n",
    "\n",
    "print(\"***********************\\ntrain Data Info\\n***********************\")\n",
    "print(train_data_frame.info())\n",
    "print(\"***********************\\ntest Data Info\\n***********************\")\n",
    "print(test_data_frame.info())"
   ]
  },
  {
   "cell_type": "markdown",
   "metadata": {},
   "source": [
    "Data Cleaning\n",
    "-------------"
   ]
  },
  {
   "cell_type": "code",
   "execution_count": 189,
   "metadata": {},
   "outputs": [],
   "source": [
    "#get columns name\n",
    "columns = list(train_data_frame.columns)\n",
    "\n",
    "#get numerical columns\n",
    "numerical_columns = list(train_data_frame.select_dtypes(exclude = ['object']).columns)\n",
    "\n",
    "#get non numerical columns\n",
    "non_numerical_columns = list(set(columns) - set(numerical_columns))\n"
   ]
  },
  {
   "cell_type": "code",
   "execution_count": 190,
   "metadata": {},
   "outputs": [
    {
     "name": "stdout",
     "output_type": "stream",
     "text": [
      "<class 'pandas.core.frame.DataFrame'>\n",
      "Int64Index: 7559 entries, 0 to 8692\n",
      "Data columns (total 14 columns):\n",
      " #   Column        Non-Null Count  Dtype  \n",
      "---  ------        --------------  -----  \n",
      " 0   PassengerId   7559 non-null   object \n",
      " 1   HomePlanet    7559 non-null   object \n",
      " 2   CryoSleep     7559 non-null   object \n",
      " 3   Cabin         7559 non-null   object \n",
      " 4   Destination   7559 non-null   object \n",
      " 5   Age           7559 non-null   float64\n",
      " 6   VIP           7559 non-null   object \n",
      " 7   RoomService   7559 non-null   float64\n",
      " 8   FoodCourt     7559 non-null   float64\n",
      " 9   ShoppingMall  7559 non-null   float64\n",
      " 10  Spa           7559 non-null   float64\n",
      " 11  VRDeck        7559 non-null   float64\n",
      " 12  Name          7559 non-null   object \n",
      " 13  Transported   7559 non-null   bool   \n",
      "dtypes: bool(1), float64(6), object(7)\n",
      "memory usage: 834.1+ KB\n"
     ]
    }
   ],
   "source": [
    "#handle missing values in training data\n",
    "# * get mean of numerical data\n",
    "# * remove rows of missing categorical data\n",
    "\n",
    "#1- set mean of numerical data\n",
    "for column in numerical_columns:\n",
    "    #1- get mean of the column\n",
    "    mean = train_data_frame[column].mean()\n",
    "\n",
    "    train_data_frame[column].fillna(mean, inplace = True)\n",
    "\n",
    "#2- drop null data (will happen for categorical data only)\n",
    "train_data_frame.dropna(inplace = True)\n",
    "\n",
    "train_data_frame.info()"
   ]
  },
  {
   "cell_type": "code",
   "execution_count": 191,
   "metadata": {},
   "outputs": [
    {
     "name": "stdout",
     "output_type": "stream",
     "text": [
      "<class 'pandas.core.frame.DataFrame'>\n",
      "Int64Index: 3747 entries, 0 to 4276\n",
      "Data columns (total 13 columns):\n",
      " #   Column        Non-Null Count  Dtype  \n",
      "---  ------        --------------  -----  \n",
      " 0   PassengerId   3747 non-null   object \n",
      " 1   HomePlanet    3747 non-null   object \n",
      " 2   CryoSleep     3747 non-null   object \n",
      " 3   Cabin         3747 non-null   object \n",
      " 4   Destination   3747 non-null   object \n",
      " 5   Age           3747 non-null   float64\n",
      " 6   VIP           3747 non-null   object \n",
      " 7   RoomService   3747 non-null   float64\n",
      " 8   FoodCourt     3747 non-null   float64\n",
      " 9   ShoppingMall  3747 non-null   float64\n",
      " 10  Spa           3747 non-null   float64\n",
      " 11  VRDeck        3747 non-null   float64\n",
      " 12  Name          3747 non-null   object \n",
      "dtypes: float64(6), object(7)\n",
      "memory usage: 409.8+ KB\n"
     ]
    }
   ],
   "source": [
    "#handle missing values in testing data\n",
    "# * get mean of numerical data\n",
    "# * remove rows of missing categorical data\n",
    "\n",
    "#1- set mean of numerical data\n",
    "for column in numerical_columns:\n",
    "    if(column == \"Transported\"):\n",
    "        continue\n",
    "    \n",
    "    #1- get mean of the column\n",
    "    mean = test_data_frame[column].mean()\n",
    "\n",
    "    test_data_frame[column].fillna(mean, inplace = True)\n",
    "\n",
    "#2- drop null data (will happen for categorical data only)\n",
    "test_data_frame.dropna(inplace = True)\n",
    "\n",
    "test_data_frame.info()"
   ]
  },
  {
   "cell_type": "code",
   "execution_count": 192,
   "metadata": {},
   "outputs": [],
   "source": [
    "#we should exclude name, cabin from training and testing feature vectors\n",
    "train_data_frame.drop(columns=[\"Cabin\", \"Name\"], inplace = True)\n",
    "test_data_frame.drop(columns=[\"Cabin\", \"Name\"], inplace = True)"
   ]
  },
  {
   "cell_type": "code",
   "execution_count": 193,
   "metadata": {},
   "outputs": [
    {
     "data": {
      "text/html": [
       "<div>\n",
       "<style scoped>\n",
       "    .dataframe tbody tr th:only-of-type {\n",
       "        vertical-align: middle;\n",
       "    }\n",
       "\n",
       "    .dataframe tbody tr th {\n",
       "        vertical-align: top;\n",
       "    }\n",
       "\n",
       "    .dataframe thead th {\n",
       "        text-align: right;\n",
       "    }\n",
       "</style>\n",
       "<table border=\"1\" class=\"dataframe\">\n",
       "  <thead>\n",
       "    <tr style=\"text-align: right;\">\n",
       "      <th></th>\n",
       "      <th>PassengerId</th>\n",
       "      <th>HomePlanet</th>\n",
       "      <th>CryoSleep</th>\n",
       "      <th>Destination</th>\n",
       "      <th>Age</th>\n",
       "      <th>VIP</th>\n",
       "      <th>RoomService</th>\n",
       "      <th>FoodCourt</th>\n",
       "      <th>ShoppingMall</th>\n",
       "      <th>Spa</th>\n",
       "      <th>VRDeck</th>\n",
       "      <th>Transported</th>\n",
       "    </tr>\n",
       "  </thead>\n",
       "  <tbody>\n",
       "    <tr>\n",
       "      <th>0</th>\n",
       "      <td>0001_01</td>\n",
       "      <td>Europa</td>\n",
       "      <td>False</td>\n",
       "      <td>TRAPPIST-1e</td>\n",
       "      <td>39.0</td>\n",
       "      <td>False</td>\n",
       "      <td>0.0</td>\n",
       "      <td>0.0</td>\n",
       "      <td>0.000000</td>\n",
       "      <td>0.0</td>\n",
       "      <td>0.000000</td>\n",
       "      <td>False</td>\n",
       "    </tr>\n",
       "    <tr>\n",
       "      <th>1</th>\n",
       "      <td>0002_01</td>\n",
       "      <td>Earth</td>\n",
       "      <td>False</td>\n",
       "      <td>TRAPPIST-1e</td>\n",
       "      <td>24.0</td>\n",
       "      <td>False</td>\n",
       "      <td>109.0</td>\n",
       "      <td>9.0</td>\n",
       "      <td>25.000000</td>\n",
       "      <td>549.0</td>\n",
       "      <td>44.000000</td>\n",
       "      <td>True</td>\n",
       "    </tr>\n",
       "    <tr>\n",
       "      <th>2</th>\n",
       "      <td>0003_01</td>\n",
       "      <td>Europa</td>\n",
       "      <td>False</td>\n",
       "      <td>TRAPPIST-1e</td>\n",
       "      <td>58.0</td>\n",
       "      <td>True</td>\n",
       "      <td>43.0</td>\n",
       "      <td>3576.0</td>\n",
       "      <td>0.000000</td>\n",
       "      <td>6715.0</td>\n",
       "      <td>49.000000</td>\n",
       "      <td>False</td>\n",
       "    </tr>\n",
       "    <tr>\n",
       "      <th>3</th>\n",
       "      <td>0003_02</td>\n",
       "      <td>Europa</td>\n",
       "      <td>False</td>\n",
       "      <td>TRAPPIST-1e</td>\n",
       "      <td>33.0</td>\n",
       "      <td>False</td>\n",
       "      <td>0.0</td>\n",
       "      <td>1283.0</td>\n",
       "      <td>371.000000</td>\n",
       "      <td>3329.0</td>\n",
       "      <td>193.000000</td>\n",
       "      <td>False</td>\n",
       "    </tr>\n",
       "    <tr>\n",
       "      <th>4</th>\n",
       "      <td>0004_01</td>\n",
       "      <td>Earth</td>\n",
       "      <td>False</td>\n",
       "      <td>TRAPPIST-1e</td>\n",
       "      <td>16.0</td>\n",
       "      <td>False</td>\n",
       "      <td>303.0</td>\n",
       "      <td>70.0</td>\n",
       "      <td>151.000000</td>\n",
       "      <td>565.0</td>\n",
       "      <td>2.000000</td>\n",
       "      <td>True</td>\n",
       "    </tr>\n",
       "    <tr>\n",
       "      <th>5</th>\n",
       "      <td>0005_01</td>\n",
       "      <td>Earth</td>\n",
       "      <td>False</td>\n",
       "      <td>PSO J318.5-22</td>\n",
       "      <td>44.0</td>\n",
       "      <td>False</td>\n",
       "      <td>0.0</td>\n",
       "      <td>483.0</td>\n",
       "      <td>0.000000</td>\n",
       "      <td>291.0</td>\n",
       "      <td>0.000000</td>\n",
       "      <td>True</td>\n",
       "    </tr>\n",
       "    <tr>\n",
       "      <th>6</th>\n",
       "      <td>0006_01</td>\n",
       "      <td>Earth</td>\n",
       "      <td>False</td>\n",
       "      <td>TRAPPIST-1e</td>\n",
       "      <td>26.0</td>\n",
       "      <td>False</td>\n",
       "      <td>42.0</td>\n",
       "      <td>1539.0</td>\n",
       "      <td>3.000000</td>\n",
       "      <td>0.0</td>\n",
       "      <td>0.000000</td>\n",
       "      <td>True</td>\n",
       "    </tr>\n",
       "    <tr>\n",
       "      <th>7</th>\n",
       "      <td>0006_02</td>\n",
       "      <td>Earth</td>\n",
       "      <td>True</td>\n",
       "      <td>TRAPPIST-1e</td>\n",
       "      <td>28.0</td>\n",
       "      <td>False</td>\n",
       "      <td>0.0</td>\n",
       "      <td>0.0</td>\n",
       "      <td>0.000000</td>\n",
       "      <td>0.0</td>\n",
       "      <td>304.854791</td>\n",
       "      <td>True</td>\n",
       "    </tr>\n",
       "    <tr>\n",
       "      <th>8</th>\n",
       "      <td>0007_01</td>\n",
       "      <td>Earth</td>\n",
       "      <td>False</td>\n",
       "      <td>TRAPPIST-1e</td>\n",
       "      <td>35.0</td>\n",
       "      <td>False</td>\n",
       "      <td>0.0</td>\n",
       "      <td>785.0</td>\n",
       "      <td>17.000000</td>\n",
       "      <td>216.0</td>\n",
       "      <td>0.000000</td>\n",
       "      <td>True</td>\n",
       "    </tr>\n",
       "    <tr>\n",
       "      <th>9</th>\n",
       "      <td>0008_01</td>\n",
       "      <td>Europa</td>\n",
       "      <td>True</td>\n",
       "      <td>55 Cancri e</td>\n",
       "      <td>14.0</td>\n",
       "      <td>False</td>\n",
       "      <td>0.0</td>\n",
       "      <td>0.0</td>\n",
       "      <td>0.000000</td>\n",
       "      <td>0.0</td>\n",
       "      <td>0.000000</td>\n",
       "      <td>True</td>\n",
       "    </tr>\n",
       "    <tr>\n",
       "      <th>10</th>\n",
       "      <td>0008_02</td>\n",
       "      <td>Europa</td>\n",
       "      <td>True</td>\n",
       "      <td>TRAPPIST-1e</td>\n",
       "      <td>34.0</td>\n",
       "      <td>False</td>\n",
       "      <td>0.0</td>\n",
       "      <td>0.0</td>\n",
       "      <td>173.729169</td>\n",
       "      <td>0.0</td>\n",
       "      <td>0.000000</td>\n",
       "      <td>True</td>\n",
       "    </tr>\n",
       "    <tr>\n",
       "      <th>11</th>\n",
       "      <td>0008_03</td>\n",
       "      <td>Europa</td>\n",
       "      <td>False</td>\n",
       "      <td>55 Cancri e</td>\n",
       "      <td>45.0</td>\n",
       "      <td>False</td>\n",
       "      <td>39.0</td>\n",
       "      <td>7295.0</td>\n",
       "      <td>589.000000</td>\n",
       "      <td>110.0</td>\n",
       "      <td>124.000000</td>\n",
       "      <td>True</td>\n",
       "    </tr>\n",
       "    <tr>\n",
       "      <th>12</th>\n",
       "      <td>0009_01</td>\n",
       "      <td>Mars</td>\n",
       "      <td>False</td>\n",
       "      <td>TRAPPIST-1e</td>\n",
       "      <td>32.0</td>\n",
       "      <td>False</td>\n",
       "      <td>73.0</td>\n",
       "      <td>0.0</td>\n",
       "      <td>1123.000000</td>\n",
       "      <td>0.0</td>\n",
       "      <td>113.000000</td>\n",
       "      <td>True</td>\n",
       "    </tr>\n",
       "    <tr>\n",
       "      <th>13</th>\n",
       "      <td>0010_01</td>\n",
       "      <td>Earth</td>\n",
       "      <td>False</td>\n",
       "      <td>TRAPPIST-1e</td>\n",
       "      <td>48.0</td>\n",
       "      <td>False</td>\n",
       "      <td>719.0</td>\n",
       "      <td>1.0</td>\n",
       "      <td>65.000000</td>\n",
       "      <td>0.0</td>\n",
       "      <td>24.000000</td>\n",
       "      <td>False</td>\n",
       "    </tr>\n",
       "    <tr>\n",
       "      <th>14</th>\n",
       "      <td>0011_01</td>\n",
       "      <td>Earth</td>\n",
       "      <td>False</td>\n",
       "      <td>TRAPPIST-1e</td>\n",
       "      <td>28.0</td>\n",
       "      <td>False</td>\n",
       "      <td>8.0</td>\n",
       "      <td>974.0</td>\n",
       "      <td>12.000000</td>\n",
       "      <td>2.0</td>\n",
       "      <td>7.000000</td>\n",
       "      <td>True</td>\n",
       "    </tr>\n",
       "    <tr>\n",
       "      <th>16</th>\n",
       "      <td>0014_01</td>\n",
       "      <td>Mars</td>\n",
       "      <td>False</td>\n",
       "      <td>55 Cancri e</td>\n",
       "      <td>27.0</td>\n",
       "      <td>False</td>\n",
       "      <td>1286.0</td>\n",
       "      <td>122.0</td>\n",
       "      <td>173.729169</td>\n",
       "      <td>0.0</td>\n",
       "      <td>0.000000</td>\n",
       "      <td>False</td>\n",
       "    </tr>\n",
       "    <tr>\n",
       "      <th>17</th>\n",
       "      <td>0015_01</td>\n",
       "      <td>Earth</td>\n",
       "      <td>False</td>\n",
       "      <td>55 Cancri e</td>\n",
       "      <td>24.0</td>\n",
       "      <td>False</td>\n",
       "      <td>0.0</td>\n",
       "      <td>1.0</td>\n",
       "      <td>0.000000</td>\n",
       "      <td>0.0</td>\n",
       "      <td>637.000000</td>\n",
       "      <td>False</td>\n",
       "    </tr>\n",
       "    <tr>\n",
       "      <th>18</th>\n",
       "      <td>0016_01</td>\n",
       "      <td>Mars</td>\n",
       "      <td>True</td>\n",
       "      <td>TRAPPIST-1e</td>\n",
       "      <td>45.0</td>\n",
       "      <td>False</td>\n",
       "      <td>0.0</td>\n",
       "      <td>0.0</td>\n",
       "      <td>0.000000</td>\n",
       "      <td>0.0</td>\n",
       "      <td>0.000000</td>\n",
       "      <td>True</td>\n",
       "    </tr>\n",
       "    <tr>\n",
       "      <th>19</th>\n",
       "      <td>0017_01</td>\n",
       "      <td>Earth</td>\n",
       "      <td>False</td>\n",
       "      <td>TRAPPIST-1e</td>\n",
       "      <td>0.0</td>\n",
       "      <td>False</td>\n",
       "      <td>0.0</td>\n",
       "      <td>0.0</td>\n",
       "      <td>0.000000</td>\n",
       "      <td>0.0</td>\n",
       "      <td>0.000000</td>\n",
       "      <td>True</td>\n",
       "    </tr>\n",
       "    <tr>\n",
       "      <th>20</th>\n",
       "      <td>0017_02</td>\n",
       "      <td>Earth</td>\n",
       "      <td>False</td>\n",
       "      <td>55 Cancri e</td>\n",
       "      <td>14.0</td>\n",
       "      <td>False</td>\n",
       "      <td>412.0</td>\n",
       "      <td>0.0</td>\n",
       "      <td>1.000000</td>\n",
       "      <td>0.0</td>\n",
       "      <td>679.000000</td>\n",
       "      <td>False</td>\n",
       "    </tr>\n",
       "  </tbody>\n",
       "</table>\n",
       "</div>"
      ],
      "text/plain": [
       "   PassengerId HomePlanet CryoSleep    Destination   Age    VIP  RoomService  \\\n",
       "0      0001_01     Europa     False    TRAPPIST-1e  39.0  False          0.0   \n",
       "1      0002_01      Earth     False    TRAPPIST-1e  24.0  False        109.0   \n",
       "2      0003_01     Europa     False    TRAPPIST-1e  58.0   True         43.0   \n",
       "3      0003_02     Europa     False    TRAPPIST-1e  33.0  False          0.0   \n",
       "4      0004_01      Earth     False    TRAPPIST-1e  16.0  False        303.0   \n",
       "5      0005_01      Earth     False  PSO J318.5-22  44.0  False          0.0   \n",
       "6      0006_01      Earth     False    TRAPPIST-1e  26.0  False         42.0   \n",
       "7      0006_02      Earth      True    TRAPPIST-1e  28.0  False          0.0   \n",
       "8      0007_01      Earth     False    TRAPPIST-1e  35.0  False          0.0   \n",
       "9      0008_01     Europa      True    55 Cancri e  14.0  False          0.0   \n",
       "10     0008_02     Europa      True    TRAPPIST-1e  34.0  False          0.0   \n",
       "11     0008_03     Europa     False    55 Cancri e  45.0  False         39.0   \n",
       "12     0009_01       Mars     False    TRAPPIST-1e  32.0  False         73.0   \n",
       "13     0010_01      Earth     False    TRAPPIST-1e  48.0  False        719.0   \n",
       "14     0011_01      Earth     False    TRAPPIST-1e  28.0  False          8.0   \n",
       "16     0014_01       Mars     False    55 Cancri e  27.0  False       1286.0   \n",
       "17     0015_01      Earth     False    55 Cancri e  24.0  False          0.0   \n",
       "18     0016_01       Mars      True    TRAPPIST-1e  45.0  False          0.0   \n",
       "19     0017_01      Earth     False    TRAPPIST-1e   0.0  False          0.0   \n",
       "20     0017_02      Earth     False    55 Cancri e  14.0  False        412.0   \n",
       "\n",
       "    FoodCourt  ShoppingMall     Spa      VRDeck  Transported  \n",
       "0         0.0      0.000000     0.0    0.000000        False  \n",
       "1         9.0     25.000000   549.0   44.000000         True  \n",
       "2      3576.0      0.000000  6715.0   49.000000        False  \n",
       "3      1283.0    371.000000  3329.0  193.000000        False  \n",
       "4        70.0    151.000000   565.0    2.000000         True  \n",
       "5       483.0      0.000000   291.0    0.000000         True  \n",
       "6      1539.0      3.000000     0.0    0.000000         True  \n",
       "7         0.0      0.000000     0.0  304.854791         True  \n",
       "8       785.0     17.000000   216.0    0.000000         True  \n",
       "9         0.0      0.000000     0.0    0.000000         True  \n",
       "10        0.0    173.729169     0.0    0.000000         True  \n",
       "11     7295.0    589.000000   110.0  124.000000         True  \n",
       "12        0.0   1123.000000     0.0  113.000000         True  \n",
       "13        1.0     65.000000     0.0   24.000000        False  \n",
       "14      974.0     12.000000     2.0    7.000000         True  \n",
       "16      122.0    173.729169     0.0    0.000000        False  \n",
       "17        1.0      0.000000     0.0  637.000000        False  \n",
       "18        0.0      0.000000     0.0    0.000000         True  \n",
       "19        0.0      0.000000     0.0    0.000000         True  \n",
       "20        0.0      1.000000     0.0  679.000000        False  "
      ]
     },
     "execution_count": 193,
     "metadata": {},
     "output_type": "execute_result"
    }
   ],
   "source": [
    "train_data_frame.head(20)"
   ]
  },
  {
   "cell_type": "markdown",
   "metadata": {},
   "source": [
    "Create TensorFlow Dataset\n",
    "-------------------------"
   ]
  },
  {
   "cell_type": "code",
   "execution_count": 194,
   "metadata": {},
   "outputs": [],
   "source": [
    "from tensorflow import feature_column\n",
    "import tensorflow as tf\n",
    "from sklearn.model_selection import train_test_split"
   ]
  },
  {
   "cell_type": "code",
   "execution_count": 195,
   "metadata": {},
   "outputs": [],
   "source": [
    "def df_to_dataset(dataframe, batch_size=32):\n",
    "  dataframe = dataframe.copy()\n",
    "  labels = dataframe.pop('Transported')\n",
    "  passenger_id = dataframe.pop(\"PassengerId\", inplace=True)\n",
    "  ds = tf.data.Dataset.from_tensor_slices((dict(dataframe), labels))\n",
    "  ds = ds.batch(batch_size)\n",
    "  return passenger_id, ds"
   ]
  },
  {
   "cell_type": "code",
   "execution_count": 196,
   "metadata": {},
   "outputs": [],
   "source": [
    "f = {False:0.0, True:1.0}\n",
    "\n",
    "train_data_frame.VIP = train_data_frame[\"VIP\"].map(f)\n",
    "test_data_frame.VIP = test_data_frame[\"VIP\"].map(f)\n",
    "\n",
    "train_data_frame.CryoSleep = train_data_frame[\"CryoSleep\"].map(f)\n",
    "test_data_frame.CryoSleep = test_data_frame[\"CryoSleep\"].map(f)"
   ]
  },
  {
   "cell_type": "code",
   "execution_count": 197,
   "metadata": {},
   "outputs": [],
   "source": [
    "train, test = train_test_split(train_data_frame, test_size=0.2)\n",
    "train, val = train_test_split(train, test_size=0.2)\n",
    "\n",
    "__, train_tensor = df_to_dataset(train)\n",
    "test_passenger_id, test_tensor = df_to_dataset(test)\n",
    "val_passenger_id, val_tensor = df_to_dataset(val)"
   ]
  },
  {
   "cell_type": "code",
   "execution_count": 198,
   "metadata": {},
   "outputs": [
    {
     "data": {
      "text/html": [
       "<div>\n",
       "<style scoped>\n",
       "    .dataframe tbody tr th:only-of-type {\n",
       "        vertical-align: middle;\n",
       "    }\n",
       "\n",
       "    .dataframe tbody tr th {\n",
       "        vertical-align: top;\n",
       "    }\n",
       "\n",
       "    .dataframe thead th {\n",
       "        text-align: right;\n",
       "    }\n",
       "</style>\n",
       "<table border=\"1\" class=\"dataframe\">\n",
       "  <thead>\n",
       "    <tr style=\"text-align: right;\">\n",
       "      <th></th>\n",
       "      <th>PassengerId</th>\n",
       "      <th>HomePlanet</th>\n",
       "      <th>CryoSleep</th>\n",
       "      <th>Destination</th>\n",
       "      <th>Age</th>\n",
       "      <th>VIP</th>\n",
       "      <th>RoomService</th>\n",
       "      <th>FoodCourt</th>\n",
       "      <th>ShoppingMall</th>\n",
       "      <th>Spa</th>\n",
       "      <th>VRDeck</th>\n",
       "      <th>Transported</th>\n",
       "    </tr>\n",
       "  </thead>\n",
       "  <tbody>\n",
       "    <tr>\n",
       "      <th>0</th>\n",
       "      <td>0001_01</td>\n",
       "      <td>Europa</td>\n",
       "      <td>0.0</td>\n",
       "      <td>TRAPPIST-1e</td>\n",
       "      <td>39.0</td>\n",
       "      <td>0.0</td>\n",
       "      <td>0.0</td>\n",
       "      <td>0.0</td>\n",
       "      <td>0.0</td>\n",
       "      <td>0.0</td>\n",
       "      <td>0.000000</td>\n",
       "      <td>False</td>\n",
       "    </tr>\n",
       "    <tr>\n",
       "      <th>1</th>\n",
       "      <td>0002_01</td>\n",
       "      <td>Earth</td>\n",
       "      <td>0.0</td>\n",
       "      <td>TRAPPIST-1e</td>\n",
       "      <td>24.0</td>\n",
       "      <td>0.0</td>\n",
       "      <td>109.0</td>\n",
       "      <td>9.0</td>\n",
       "      <td>25.0</td>\n",
       "      <td>549.0</td>\n",
       "      <td>44.000000</td>\n",
       "      <td>True</td>\n",
       "    </tr>\n",
       "    <tr>\n",
       "      <th>2</th>\n",
       "      <td>0003_01</td>\n",
       "      <td>Europa</td>\n",
       "      <td>0.0</td>\n",
       "      <td>TRAPPIST-1e</td>\n",
       "      <td>58.0</td>\n",
       "      <td>1.0</td>\n",
       "      <td>43.0</td>\n",
       "      <td>3576.0</td>\n",
       "      <td>0.0</td>\n",
       "      <td>6715.0</td>\n",
       "      <td>49.000000</td>\n",
       "      <td>False</td>\n",
       "    </tr>\n",
       "    <tr>\n",
       "      <th>3</th>\n",
       "      <td>0003_02</td>\n",
       "      <td>Europa</td>\n",
       "      <td>0.0</td>\n",
       "      <td>TRAPPIST-1e</td>\n",
       "      <td>33.0</td>\n",
       "      <td>0.0</td>\n",
       "      <td>0.0</td>\n",
       "      <td>1283.0</td>\n",
       "      <td>371.0</td>\n",
       "      <td>3329.0</td>\n",
       "      <td>193.000000</td>\n",
       "      <td>False</td>\n",
       "    </tr>\n",
       "    <tr>\n",
       "      <th>4</th>\n",
       "      <td>0004_01</td>\n",
       "      <td>Earth</td>\n",
       "      <td>0.0</td>\n",
       "      <td>TRAPPIST-1e</td>\n",
       "      <td>16.0</td>\n",
       "      <td>0.0</td>\n",
       "      <td>303.0</td>\n",
       "      <td>70.0</td>\n",
       "      <td>151.0</td>\n",
       "      <td>565.0</td>\n",
       "      <td>2.000000</td>\n",
       "      <td>True</td>\n",
       "    </tr>\n",
       "    <tr>\n",
       "      <th>5</th>\n",
       "      <td>0005_01</td>\n",
       "      <td>Earth</td>\n",
       "      <td>0.0</td>\n",
       "      <td>PSO J318.5-22</td>\n",
       "      <td>44.0</td>\n",
       "      <td>0.0</td>\n",
       "      <td>0.0</td>\n",
       "      <td>483.0</td>\n",
       "      <td>0.0</td>\n",
       "      <td>291.0</td>\n",
       "      <td>0.000000</td>\n",
       "      <td>True</td>\n",
       "    </tr>\n",
       "    <tr>\n",
       "      <th>6</th>\n",
       "      <td>0006_01</td>\n",
       "      <td>Earth</td>\n",
       "      <td>0.0</td>\n",
       "      <td>TRAPPIST-1e</td>\n",
       "      <td>26.0</td>\n",
       "      <td>0.0</td>\n",
       "      <td>42.0</td>\n",
       "      <td>1539.0</td>\n",
       "      <td>3.0</td>\n",
       "      <td>0.0</td>\n",
       "      <td>0.000000</td>\n",
       "      <td>True</td>\n",
       "    </tr>\n",
       "    <tr>\n",
       "      <th>7</th>\n",
       "      <td>0006_02</td>\n",
       "      <td>Earth</td>\n",
       "      <td>1.0</td>\n",
       "      <td>TRAPPIST-1e</td>\n",
       "      <td>28.0</td>\n",
       "      <td>0.0</td>\n",
       "      <td>0.0</td>\n",
       "      <td>0.0</td>\n",
       "      <td>0.0</td>\n",
       "      <td>0.0</td>\n",
       "      <td>304.854791</td>\n",
       "      <td>True</td>\n",
       "    </tr>\n",
       "    <tr>\n",
       "      <th>8</th>\n",
       "      <td>0007_01</td>\n",
       "      <td>Earth</td>\n",
       "      <td>0.0</td>\n",
       "      <td>TRAPPIST-1e</td>\n",
       "      <td>35.0</td>\n",
       "      <td>0.0</td>\n",
       "      <td>0.0</td>\n",
       "      <td>785.0</td>\n",
       "      <td>17.0</td>\n",
       "      <td>216.0</td>\n",
       "      <td>0.000000</td>\n",
       "      <td>True</td>\n",
       "    </tr>\n",
       "    <tr>\n",
       "      <th>9</th>\n",
       "      <td>0008_01</td>\n",
       "      <td>Europa</td>\n",
       "      <td>1.0</td>\n",
       "      <td>55 Cancri e</td>\n",
       "      <td>14.0</td>\n",
       "      <td>0.0</td>\n",
       "      <td>0.0</td>\n",
       "      <td>0.0</td>\n",
       "      <td>0.0</td>\n",
       "      <td>0.0</td>\n",
       "      <td>0.000000</td>\n",
       "      <td>True</td>\n",
       "    </tr>\n",
       "  </tbody>\n",
       "</table>\n",
       "</div>"
      ],
      "text/plain": [
       "  PassengerId HomePlanet  CryoSleep    Destination   Age  VIP  RoomService  \\\n",
       "0     0001_01     Europa        0.0    TRAPPIST-1e  39.0  0.0          0.0   \n",
       "1     0002_01      Earth        0.0    TRAPPIST-1e  24.0  0.0        109.0   \n",
       "2     0003_01     Europa        0.0    TRAPPIST-1e  58.0  1.0         43.0   \n",
       "3     0003_02     Europa        0.0    TRAPPIST-1e  33.0  0.0          0.0   \n",
       "4     0004_01      Earth        0.0    TRAPPIST-1e  16.0  0.0        303.0   \n",
       "5     0005_01      Earth        0.0  PSO J318.5-22  44.0  0.0          0.0   \n",
       "6     0006_01      Earth        0.0    TRAPPIST-1e  26.0  0.0         42.0   \n",
       "7     0006_02      Earth        1.0    TRAPPIST-1e  28.0  0.0          0.0   \n",
       "8     0007_01      Earth        0.0    TRAPPIST-1e  35.0  0.0          0.0   \n",
       "9     0008_01     Europa        1.0    55 Cancri e  14.0  0.0          0.0   \n",
       "\n",
       "   FoodCourt  ShoppingMall     Spa      VRDeck  Transported  \n",
       "0        0.0           0.0     0.0    0.000000        False  \n",
       "1        9.0          25.0   549.0   44.000000         True  \n",
       "2     3576.0           0.0  6715.0   49.000000        False  \n",
       "3     1283.0         371.0  3329.0  193.000000        False  \n",
       "4       70.0         151.0   565.0    2.000000         True  \n",
       "5      483.0           0.0   291.0    0.000000         True  \n",
       "6     1539.0           3.0     0.0    0.000000         True  \n",
       "7        0.0           0.0     0.0  304.854791         True  \n",
       "8      785.0          17.0   216.0    0.000000         True  \n",
       "9        0.0           0.0     0.0    0.000000         True  "
      ]
     },
     "execution_count": 198,
     "metadata": {},
     "output_type": "execute_result"
    }
   ],
   "source": [
    "train_data_frame.head(10)\n",
    "#train_data_frame.info()"
   ]
  },
  {
   "cell_type": "markdown",
   "metadata": {},
   "source": [
    "Study Features Transformation\n",
    "-----------------------------"
   ]
  },
  {
   "cell_type": "code",
   "execution_count": 199,
   "metadata": {},
   "outputs": [],
   "source": [
    "import seaborn as sns\n",
    "from matplotlib import pyplot as plt"
   ]
  },
  {
   "cell_type": "markdown",
   "metadata": {},
   "source": [
    "1- Study Numerical Features\n",
    "----------------------------"
   ]
  },
  {
   "cell_type": "markdown",
   "metadata": {},
   "source": [
    "a. Age\n",
    "******"
   ]
  },
  {
   "cell_type": "code",
   "execution_count": 200,
   "metadata": {},
   "outputs": [
    {
     "data": {
      "text/plain": [
       "81"
      ]
     },
     "execution_count": 200,
     "metadata": {},
     "output_type": "execute_result"
    }
   ],
   "source": [
    "len(set(train_data_frame[\"Age\"].unique()))\n",
    "#print(f\"Number of age unique values is:{val}\".format(len(set(train_data_frame[\"Age\"]))))"
   ]
  },
  {
   "cell_type": "code",
   "execution_count": 201,
   "metadata": {},
   "outputs": [
    {
     "name": "stdout",
     "output_type": "stream",
     "text": [
      "80\n"
     ]
    },
    {
     "data": {
      "text/plain": [
       "<AxesSubplot:xlabel='Age', ylabel='Count'>"
      ]
     },
     "execution_count": 201,
     "metadata": {},
     "output_type": "execute_result"
    },
    {
     "data": {
      "image/png": "[encoded data removed]",
      "text/plain": [
       "<Figure size 1080x576 with 1 Axes>"
      ]
     },
     "metadata": {
      "needs_background": "light"
     },
     "output_type": "display_data"
    }
   ],
   "source": [
    "#1- THe relation with age\n",
    "print(len(test_data_frame['Age'].unique()))\n",
    "\n",
    "plt.figure(figsize=(15,8))\n",
    "sns.histplot(data=train_data_frame, x=\"Age\", hue=\"Transported\", multiple=\"dodge\")"
   ]
  },
  {
   "cell_type": "code",
   "execution_count": 202,
   "metadata": {},
   "outputs": [
    {
     "name": "stdout",
     "output_type": "stream",
     "text": [
      "the uniq of roos service values is 1\n"
     ]
    },
    {
     "data": {
      "text/plain": [
       "<AxesSubplot:xlabel='RoomService', ylabel='Count'>"
      ]
     },
     "execution_count": 202,
     "metadata": {},
     "output_type": "execute_result"
    },
    {
     "data": {
      "image/png": "[encoded data removed]",
      "text/plain": [
       "<Figure size 1080x576 with 1 Axes>"
      ]
     },
     "metadata": {
      "needs_background": "light"
     },
     "output_type": "display_data"
    }
   ],
   "source": [
    "#2- The relation with the room service\n",
    "print(f'the uniq of roos service values is {1}'.format(set(train_data_frame['RoomService'])))\n",
    "plt.figure(figsize=(15,8))\n",
    "sns.histplot(data=train_data_frame, x='RoomService', hue='Transported', bins=30, multiple=\"dodge\")"
   ]
  },
  {
   "cell_type": "code",
   "execution_count": 203,
   "metadata": {},
   "outputs": [
    {
     "name": "stdout",
     "output_type": "stream",
     "text": [
      "the uniq of roos service values is 1\n"
     ]
    },
    {
     "data": {
      "text/plain": [
       "<AxesSubplot:xlabel='FoodCourt', ylabel='Count'>"
      ]
     },
     "execution_count": 203,
     "metadata": {},
     "output_type": "execute_result"
    },
    {
     "data": {
      "image/png": "[encoded data removed]",
      "text/plain": [
       "<Figure size 1080x576 with 1 Axes>"
      ]
     },
     "metadata": {
      "needs_background": "light"
     },
     "output_type": "display_data"
    }
   ],
   "source": [
    "#2- The relation with the room service\n",
    "print(f'the uniq of roos service values is {1}'.format(set(train_data_frame['FoodCourt'])))\n",
    "plt.figure(figsize=(15,8))\n",
    "sns.histplot(data=train_data_frame, x='FoodCourt', hue='Transported', bins=30, multiple=\"dodge\")"
   ]
  },
  {
   "cell_type": "code",
   "execution_count": 204,
   "metadata": {},
   "outputs": [
    {
     "name": "stdout",
     "output_type": "stream",
     "text": [
      "the uniq of roos service values is 1\n"
     ]
    },
    {
     "data": {
      "text/plain": [
       "<AxesSubplot:xlabel='ShoppingMall', ylabel='Count'>"
      ]
     },
     "execution_count": 204,
     "metadata": {},
     "output_type": "execute_result"
    },
    {
     "data": {
      "image/png": "[encoded data removed]",
      "text/plain": [
       "<Figure size 1080x576 with 1 Axes>"
      ]
     },
     "metadata": {
      "needs_background": "light"
     },
     "output_type": "display_data"
    }
   ],
   "source": [
    "#2- The relation with the room service\n",
    "print(f'the uniq of roos service values is {1}'.format(set(train_data_frame['ShoppingMall'])))\n",
    "plt.figure(figsize=(15,8))\n",
    "sns.histplot(data=train_data_frame, x='ShoppingMall', hue='Transported', bins=30, multiple=\"dodge\")"
   ]
  },
  {
   "cell_type": "code",
   "execution_count": 205,
   "metadata": {},
   "outputs": [
    {
     "name": "stdout",
     "output_type": "stream",
     "text": [
      "the uniq of roos service values is 1\n"
     ]
    },
    {
     "data": {
      "text/plain": [
       "<AxesSubplot:xlabel='Spa', ylabel='Count'>"
      ]
     },
     "execution_count": 205,
     "metadata": {},
     "output_type": "execute_result"
    },
    {
     "data": {
      "image/png": "[encoded data removed]",
      "text/plain": [
       "<Figure size 1080x576 with 1 Axes>"
      ]
     },
     "metadata": {
      "needs_background": "light"
     },
     "output_type": "display_data"
    }
   ],
   "source": [
    "#2- The relation with the room service\n",
    "print(f'the uniq of roos service values is {1}'.format(set(train_data_frame['Spa'])))\n",
    "plt.figure(figsize=(15,8))\n",
    "sns.histplot(data=train_data_frame, x='Spa', hue='Transported', bins=30, multiple=\"dodge\")"
   ]
  },
  {
   "cell_type": "code",
   "execution_count": 206,
   "metadata": {},
   "outputs": [
    {
     "name": "stdout",
     "output_type": "stream",
     "text": [
      "the uniq of roos service values is 1\n"
     ]
    },
    {
     "data": {
      "text/plain": [
       "<AxesSubplot:xlabel='VRDeck', ylabel='Count'>"
      ]
     },
     "execution_count": 206,
     "metadata": {},
     "output_type": "execute_result"
    },
    {
     "data": {
      "image/png": "[encoded data removed]",
      "text/plain": [
       "<Figure size 1080x576 with 1 Axes>"
      ]
     },
     "metadata": {
      "needs_background": "light"
     },
     "output_type": "display_data"
    }
   ],
   "source": [
    "#2- The relation with the room service\n",
    "print(f'the uniq of roos service values is {1}'.format(set(train_data_frame['VRDeck'])))\n",
    "plt.figure(figsize=(15,8))\n",
    "sns.histplot(data=train_data_frame, x='VRDeck', hue='Transported', bins=30, multiple=\"dodge\")"
   ]
  },
  {
   "cell_type": "markdown",
   "metadata": {},
   "source": [
    "b. make transformations for numerical columns\n",
    "********************************************"
   ]
  },
  {
   "cell_type": "code",
   "execution_count": 207,
   "metadata": {},
   "outputs": [],
   "source": [
    "feature_columns = []\n",
    "\n",
    "feature_columns.append(feature_column.numeric_column('Age'))\n",
    "feature_columns.append(feature_column.numeric_column('RoomService'))\n",
    "feature_columns.append(feature_column.numeric_column('FoodCourt'))\n",
    "feature_columns.append(feature_column.numeric_column('ShoppingMall'))\n",
    "feature_columns.append(feature_column.numeric_column('Spa'))\n",
    "feature_columns.append(feature_column.numeric_column('VRDeck'))"
   ]
  },
  {
   "cell_type": "markdown",
   "metadata": {},
   "source": [
    "c. study categorical features\n",
    "******************************"
   ]
  },
  {
   "cell_type": "code",
   "execution_count": 208,
   "metadata": {},
   "outputs": [
    {
     "data": {
      "text/plain": [
       "<AxesSubplot:xlabel='HomePlanet', ylabel='Count'>"
      ]
     },
     "execution_count": 208,
     "metadata": {},
     "output_type": "execute_result"
    },
    {
     "data": {
      "image/png": "[encoded data removed]",
      "text/plain": [
       "<Figure size 1080x576 with 1 Axes>"
      ]
     },
     "metadata": {
      "needs_background": "light"
     },
     "output_type": "display_data"
    }
   ],
   "source": [
    "#2- The relation with the room service\n",
    "plt.figure(figsize=(15,8))\n",
    "sns.histplot(data=train_data_frame, x='HomePlanet', hue='Transported', bins=30, multiple=\"dodge\")"
   ]
  },
  {
   "cell_type": "code",
   "execution_count": 209,
   "metadata": {},
   "outputs": [
    {
     "data": {
      "text/plain": [
       "<AxesSubplot:xlabel='VIP', ylabel='Count'>"
      ]
     },
     "execution_count": 209,
     "metadata": {},
     "output_type": "execute_result"
    },
    {
     "data": {
      "image/png": "[encoded data removed]",
      "text/plain": [
       "<Figure size 1080x576 with 1 Axes>"
      ]
     },
     "metadata": {
      "needs_background": "light"
     },
     "output_type": "display_data"
    }
   ],
   "source": [
    "#2- The relation with the room service\n",
    "plt.figure(figsize=(15,8))\n",
    "sns.histplot(data=train_data_frame, x='VIP', hue='Transported', bins=30, multiple=\"dodge\")"
   ]
  },
  {
   "cell_type": "code",
   "execution_count": 210,
   "metadata": {},
   "outputs": [
    {
     "data": {
      "text/plain": [
       "<AxesSubplot:xlabel='CryoSleep', ylabel='Count'>"
      ]
     },
     "execution_count": 210,
     "metadata": {},
     "output_type": "execute_result"
    },
    {
     "data": {
      "image/png": "[encoded data removed]",
      "text/plain": [
       "<Figure size 1080x576 with 1 Axes>"
      ]
     },
     "metadata": {
      "needs_background": "light"
     },
     "output_type": "display_data"
    }
   ],
   "source": [
    "#2- The relation with the room service\n",
    "plt.figure(figsize=(15,8))\n",
    "sns.histplot(data=train_data_frame, x='CryoSleep', hue='Transported', multiple=\"dodge\")"
   ]
  },
  {
   "cell_type": "markdown",
   "metadata": {},
   "source": [
    "d. Construct Feature Vector\n",
    "****************************"
   ]
  },
  {
   "cell_type": "code",
   "execution_count": 211,
   "metadata": {},
   "outputs": [
    {
     "name": "stdout",
     "output_type": "stream",
     "text": [
      "<class 'pandas.core.frame.DataFrame'>\n",
      "Int64Index: 7559 entries, 0 to 8692\n",
      "Data columns (total 12 columns):\n",
      " #   Column        Non-Null Count  Dtype  \n",
      "---  ------        --------------  -----  \n",
      " 0   PassengerId   7559 non-null   object \n",
      " 1   HomePlanet    7559 non-null   object \n",
      " 2   CryoSleep     7559 non-null   float64\n",
      " 3   Destination   7559 non-null   object \n",
      " 4   Age           7559 non-null   float64\n",
      " 5   VIP           7559 non-null   float64\n",
      " 6   RoomService   7559 non-null   float64\n",
      " 7   FoodCourt     7559 non-null   float64\n",
      " 8   ShoppingMall  7559 non-null   float64\n",
      " 9   Spa           7559 non-null   float64\n",
      " 10  VRDeck        7559 non-null   float64\n",
      " 11  Transported   7559 non-null   bool   \n",
      "dtypes: bool(1), float64(8), object(3)\n",
      "memory usage: 716.0+ KB\n"
     ]
    }
   ],
   "source": [
    "train_data_frame.info()"
   ]
  },
  {
   "cell_type": "code",
   "execution_count": 212,
   "metadata": {},
   "outputs": [],
   "source": [
    "feature_columns = []"
   ]
  },
  {
   "cell_type": "code",
   "execution_count": 213,
   "metadata": {},
   "outputs": [],
   "source": [
    "#1- Numerical features\n",
    "feature_columns.append(feature_column.numeric_column(\"CryoSleep\"))\n",
    "feature_columns.append(feature_column.numeric_column(\"Age\"))\n",
    "feature_columns.append(feature_column.numeric_column(\"VIP\"))\n",
    "feature_columns.append(feature_column.numeric_column(\"RoomService\"))\n",
    "feature_columns.append(feature_column.numeric_column(\"FoodCourt\"))\n",
    "feature_columns.append(feature_column.numeric_column(\"ShoppingMall\"))\n",
    "feature_columns.append(feature_column.numeric_column(\"Spa\"))\n",
    "feature_columns.append(feature_column.numeric_column(\"VRDeck\"))"
   ]
  },
  {
   "cell_type": "code",
   "execution_count": 215,
   "metadata": {},
   "outputs": [
    {
     "name": "stdout",
     "output_type": "stream",
     "text": [
      "['TRAPPIST-1e' 'PSO J318.5-22' '55 Cancri e']\n",
      "['Europa' 'Earth' 'Mars']\n"
     ]
    }
   ],
   "source": [
    "#2- Categorical features\n",
    "print(train_data_frame.Destination.unique())\n",
    "print(train_data_frame.HomePlanet.unique())"
   ]
  },
  {
   "cell_type": "code",
   "execution_count": 216,
   "metadata": {},
   "outputs": [],
   "source": [
    "indicator_column_names = [\"HomePlanet\", \"Destination\"]\n",
    "\n",
    "for col_name in indicator_column_names:\n",
    "  categorical_column = feature_column.categorical_column_with_vocabulary_list(\n",
    "      col_name, train_data_frame[col_name].unique())\n",
    "  indicator_column = feature_column.indicator_column(categorical_column)\n",
    "  feature_columns.append(indicator_column)"
   ]
  },
  {
   "cell_type": "markdown",
   "metadata": {},
   "source": [
    "Create a feature layer\n",
    "--------------------------"
   ]
  },
  {
   "cell_type": "code",
   "execution_count": 218,
   "metadata": {},
   "outputs": [],
   "source": [
    "feature_layer = tf.keras.layers.DenseFeatures(feature_columns)"
   ]
  },
  {
   "cell_type": "markdown",
   "metadata": {},
   "source": [
    "Create, compile, and train the model\n",
    "------------------------------------"
   ]
  },
  {
   "cell_type": "code",
   "execution_count": 223,
   "metadata": {},
   "outputs": [
    {
     "name": "stdout",
     "output_type": "stream",
     "text": [
      "Epoch 1/10\n",
      "WARNING:tensorflow:Layers in a Sequential model should only have a single input tensor. Received: inputs={'HomePlanet': <tf.Tensor 'IteratorGetNext:4' shape=(None,) dtype=string>, 'CryoSleep': <tf.Tensor 'IteratorGetNext:1' shape=(None,) dtype=float64>, 'Destination': <tf.Tensor 'IteratorGetNext:2' shape=(None,) dtype=string>, 'Age': <tf.Tensor 'IteratorGetNext:0' shape=(None,) dtype=float64>, 'VIP': <tf.Tensor 'IteratorGetNext:8' shape=(None,) dtype=float64>, 'RoomService': <tf.Tensor 'IteratorGetNext:5' shape=(None,) dtype=float64>, 'FoodCourt': <tf.Tensor 'IteratorGetNext:3' shape=(None,) dtype=float64>, 'ShoppingMall': <tf.Tensor 'IteratorGetNext:6' shape=(None,) dtype=float64>, 'Spa': <tf.Tensor 'IteratorGetNext:7' shape=(None,) dtype=float64>, 'VRDeck': <tf.Tensor 'IteratorGetNext:9' shape=(None,) dtype=float64>}. Consider rewriting this model with the Functional API.\n",
      "WARNING:tensorflow:Layers in a Sequential model should only have a single input tensor. Received: inputs={'HomePlanet': <tf.Tensor 'IteratorGetNext:4' shape=(None,) dtype=string>, 'CryoSleep': <tf.Tensor 'IteratorGetNext:1' shape=(None,) dtype=float64>, 'Destination': <tf.Tensor 'IteratorGetNext:2' shape=(None,) dtype=string>, 'Age': <tf.Tensor 'IteratorGetNext:0' shape=(None,) dtype=float64>, 'VIP': <tf.Tensor 'IteratorGetNext:8' shape=(None,) dtype=float64>, 'RoomService': <tf.Tensor 'IteratorGetNext:5' shape=(None,) dtype=float64>, 'FoodCourt': <tf.Tensor 'IteratorGetNext:3' shape=(None,) dtype=float64>, 'ShoppingMall': <tf.Tensor 'IteratorGetNext:6' shape=(None,) dtype=float64>, 'Spa': <tf.Tensor 'IteratorGetNext:7' shape=(None,) dtype=float64>, 'VRDeck': <tf.Tensor 'IteratorGetNext:9' shape=(None,) dtype=float64>}. Consider rewriting this model with the Functional API.\n",
      "141/152 [==========================>...] - ETA: 0s - loss: 0.5630 - accuracy: 0.6862WARNING:tensorflow:Layers in a Sequential model should only have a single input tensor. Received: inputs={'HomePlanet': <tf.Tensor 'IteratorGetNext:4' shape=(None,) dtype=string>, 'CryoSleep': <tf.Tensor 'IteratorGetNext:1' shape=(None,) dtype=float64>, 'Destination': <tf.Tensor 'IteratorGetNext:2' shape=(None,) dtype=string>, 'Age': <tf.Tensor 'IteratorGetNext:0' shape=(None,) dtype=float64>, 'VIP': <tf.Tensor 'IteratorGetNext:8' shape=(None,) dtype=float64>, 'RoomService': <tf.Tensor 'IteratorGetNext:5' shape=(None,) dtype=float64>, 'FoodCourt': <tf.Tensor 'IteratorGetNext:3' shape=(None,) dtype=float64>, 'ShoppingMall': <tf.Tensor 'IteratorGetNext:6' shape=(None,) dtype=float64>, 'Spa': <tf.Tensor 'IteratorGetNext:7' shape=(None,) dtype=float64>, 'VRDeck': <tf.Tensor 'IteratorGetNext:9' shape=(None,) dtype=float64>}. Consider rewriting this model with the Functional API.\n",
      "152/152 [==============================] - 3s 9ms/step - loss: 0.5614 - accuracy: 0.6893 - val_loss: 0.5256 - val_accuracy: 0.7413\n",
      "Epoch 2/10\n",
      "152/152 [==============================] - 1s 5ms/step - loss: 0.5094 - accuracy: 0.7662 - val_loss: 0.5179 - val_accuracy: 0.7595\n",
      "Epoch 3/10\n",
      "152/152 [==============================] - 1s 5ms/step - loss: 0.5007 - accuracy: 0.7747 - val_loss: 0.5073 - val_accuracy: 0.7653\n",
      "Epoch 4/10\n",
      "152/152 [==============================] - 1s 5ms/step - loss: 0.4915 - accuracy: 0.7697 - val_loss: 0.4984 - val_accuracy: 0.7587\n",
      "Epoch 5/10\n",
      "152/152 [==============================] - 1s 6ms/step - loss: 0.4798 - accuracy: 0.7724 - val_loss: 0.4906 - val_accuracy: 0.7612\n",
      "Epoch 6/10\n",
      "152/152 [==============================] - 1s 5ms/step - loss: 0.4748 - accuracy: 0.7705 - val_loss: 0.4886 - val_accuracy: 0.7504\n",
      "Epoch 7/10\n",
      "152/152 [==============================] - 1s 5ms/step - loss: 0.4732 - accuracy: 0.7666 - val_loss: 0.4850 - val_accuracy: 0.7579\n",
      "Epoch 8/10\n",
      "152/152 [==============================] - 1s 5ms/step - loss: 0.4682 - accuracy: 0.7689 - val_loss: 0.4863 - val_accuracy: 0.7554\n",
      "Epoch 9/10\n",
      "152/152 [==============================] - 1s 5ms/step - loss: 0.4655 - accuracy: 0.7672 - val_loss: 0.4823 - val_accuracy: 0.7545\n",
      "Epoch 10/10\n",
      "152/152 [==============================] - 1s 5ms/step - loss: 0.4637 - accuracy: 0.7685 - val_loss: 0.4822 - val_accuracy: 0.7570\n"
     ]
    },
    {
     "data": {
      "text/plain": [
       "<keras.callbacks.History at 0x2ced4deda90>"
      ]
     },
     "execution_count": 223,
     "metadata": {},
     "output_type": "execute_result"
    }
   ],
   "source": [
    "from tensorflow.keras import layers\n",
    "\n",
    "model = tf.keras.Sequential([\n",
    "  feature_layer,\n",
    "  layers.Dense(128, activation='sigmoid'),\n",
    "  layers.Dense(128, activation='sigmoid'),\n",
    "  layers.Dense(128, activation='sigmoid'),\n",
    "  layers.Dropout(.1),\n",
    "  layers.Dense(1)\n",
    "])\n",
    "\n",
    "model.compile(optimizer='adam',\n",
    "              loss=tf.keras.losses.BinaryCrossentropy(from_logits=True),\n",
    "              metrics=['accuracy'])\n",
    "\n",
    "model.fit(train_tensor,\n",
    "          validation_data=val_tensor,\n",
    "          epochs=10)"
   ]
  },
  {
   "cell_type": "markdown",
   "metadata": {},
   "source": [
    "### Evaluate Model"
   ]
  },
  {
   "cell_type": "code",
   "execution_count": null,
   "metadata": {},
   "outputs": [],
   "source": [
    "loss, accuracy = model.evaluate(test_tensor)\n",
    "print(\"Accuracy\", accuracy)"
   ]
  }
 ],
 "metadata": {
  "interpreter": {
   "hash": "b3ba2566441a7c06988d0923437866b63cedc61552a5af99d1f4fb67d367b25f"
  },
  "kernelspec": {
   "display_name": "Python 3.9.7 ('base')",
   "language": "python",
   "name": "python3"
  },
  "language_info": {
   "codemirror_mode": {
    "name": "ipython",
    "version": 3
   },
   "file_extension": ".py",
   "mimetype": "text/x-python",
   "name": "python",
   "nbconvert_exporter": "python",
   "pygments_lexer": "ipython3",
   "version": "3.9.7"
  },
  "orig_nbformat": 4
 },
 "nbformat": 4,
 "nbformat_minor": 2
}
